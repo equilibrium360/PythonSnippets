{
 "cells": [
  {
   "cell_type": "code",
   "execution_count": 4,
   "metadata": {
    "collapsed": true,
    "pycharm": {
     "is_executing": false
    }
   },
   "outputs": [
    {
     "name": "stdout",
     "text": [
      "  group_id position_nbr\n",
      "0  a_group        12345\n",
      "1  a_group        34567\n",
      "2  b_group       464566\n",
      "3  c_group          NaN\n",
      "group_id\n",
      "a_group    [12345, 34567]\n",
      "b_group          [464566]\n",
      "c_group             [nan]\n",
      "Name: position_nbr, dtype: object\n"
     ],
     "output_type": "stream"
    },
    {
     "data": {
      "text/plain": "<pandas.core.groupby.generic.DataFrameGroupBy object at 0x11ef3ba00>"
     },
     "metadata": {},
     "output_type": "execute_result",
     "execution_count": 4
    }
   ],
   "source": [
    "import pandas as pd\n",
    "\n",
    "data = [{'group_id': 'a_group', 'position_nbr': '12345'},\n",
    "            {'group_id': 'a_group', 'position_nbr': '34567'},\n",
    "            {'group_id': 'b_group', 'position_nbr': '464566'},\n",
    "            {'group_id': 'c_group'}]\n",
    "\n",
    "    \n",
    "df = pd.DataFrame(data)\n",
    "print(df)\n",
    "print(df.groupby('group_id')['position_nbr'].apply(list))\n",
    "\n",
    "type(df.groupby('group_id'))"
   ]
  },
  {
   "cell_type": "markdown",
   "source": [
    "#Hello\n",
    "\n",
    "\n"
   ],
   "metadata": {
    "collapsed": false
   }
  }
 ],
 "metadata": {
  "kernelspec": {
   "display_name": "Python 3",
   "language": "python",
   "name": "python3"
  },
  "language_info": {
   "codemirror_mode": {
    "name": "ipython",
    "version": 2
   },
   "file_extension": ".py",
   "mimetype": "text/x-python",
   "name": "python",
   "nbconvert_exporter": "python",
   "pygments_lexer": "ipython2",
   "version": "2.7.6"
  },
  "pycharm": {
   "stem_cell": {
    "cell_type": "raw",
    "source": [],
    "metadata": {
     "collapsed": false
    }
   }
  }
 },
 "nbformat": 4,
 "nbformat_minor": 0
}